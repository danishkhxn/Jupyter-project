{
 "cells": [
  {
   "cell_type": "code",
   "execution_count": 4,
   "id": "a46e690a-6819-42f5-a839-3b6753d6adff",
   "metadata": {},
   "outputs": [],
   "source": [
    "import pandas as pd\n",
    "import matplotlib.pyplot as plt\n",
    "import seaborn as sns"
   ]
  },
  {
   "cell_type": "code",
   "execution_count": 5,
   "id": "5967c4f0-92e1-4623-afaa-24b2fe355e63",
   "metadata": {},
   "outputs": [
    {
     "data": {
      "text/html": [
       "<div>\n",
       "<style scoped>\n",
       "    .dataframe tbody tr th:only-of-type {\n",
       "        vertical-align: middle;\n",
       "    }\n",
       "\n",
       "    .dataframe tbody tr th {\n",
       "        vertical-align: top;\n",
       "    }\n",
       "\n",
       "    .dataframe thead th {\n",
       "        text-align: right;\n",
       "    }\n",
       "</style>\n",
       "<table border=\"1\" class=\"dataframe\">\n",
       "  <thead>\n",
       "    <tr style=\"text-align: right;\">\n",
       "      <th></th>\n",
       "      <th>Entertainer</th>\n",
       "      <th>Year of Last Major Work (arguable)</th>\n",
       "      <th>Year of Death</th>\n",
       "    </tr>\n",
       "  </thead>\n",
       "  <tbody>\n",
       "    <tr>\n",
       "      <th>0</th>\n",
       "      <td>Adele</td>\n",
       "      <td>2016</td>\n",
       "      <td>NaN</td>\n",
       "    </tr>\n",
       "    <tr>\n",
       "      <th>1</th>\n",
       "      <td>Angelina Jolie</td>\n",
       "      <td>2016</td>\n",
       "      <td>NaN</td>\n",
       "    </tr>\n",
       "    <tr>\n",
       "      <th>2</th>\n",
       "      <td>Aretha Franklin</td>\n",
       "      <td>2014</td>\n",
       "      <td>NaN</td>\n",
       "    </tr>\n",
       "    <tr>\n",
       "      <th>3</th>\n",
       "      <td>Bette Davis</td>\n",
       "      <td>1989</td>\n",
       "      <td>1989.0</td>\n",
       "    </tr>\n",
       "    <tr>\n",
       "      <th>4</th>\n",
       "      <td>Betty White</td>\n",
       "      <td>2016</td>\n",
       "      <td>NaN</td>\n",
       "    </tr>\n",
       "    <tr>\n",
       "      <th>...</th>\n",
       "      <td>...</td>\n",
       "      <td>...</td>\n",
       "      <td>...</td>\n",
       "    </tr>\n",
       "    <tr>\n",
       "      <th>65</th>\n",
       "      <td>Tom Hanks</td>\n",
       "      <td>2016</td>\n",
       "      <td>NaN</td>\n",
       "    </tr>\n",
       "    <tr>\n",
       "      <th>66</th>\n",
       "      <td>Tony Bennett</td>\n",
       "      <td>2016</td>\n",
       "      <td>NaN</td>\n",
       "    </tr>\n",
       "    <tr>\n",
       "      <th>67</th>\n",
       "      <td>Wayne Newton</td>\n",
       "      <td>2016</td>\n",
       "      <td>NaN</td>\n",
       "    </tr>\n",
       "    <tr>\n",
       "      <th>68</th>\n",
       "      <td>Will Smith</td>\n",
       "      <td>2016</td>\n",
       "      <td>NaN</td>\n",
       "    </tr>\n",
       "    <tr>\n",
       "      <th>69</th>\n",
       "      <td>Willie Nelson</td>\n",
       "      <td>2016</td>\n",
       "      <td>NaN</td>\n",
       "    </tr>\n",
       "  </tbody>\n",
       "</table>\n",
       "<p>70 rows × 3 columns</p>\n",
       "</div>"
      ],
      "text/plain": [
       "        Entertainer  Year of Last Major Work (arguable)  Year of Death\n",
       "0             Adele                                2016            NaN\n",
       "1    Angelina Jolie                                2016            NaN\n",
       "2   Aretha Franklin                                2014            NaN\n",
       "3       Bette Davis                                1989         1989.0\n",
       "4       Betty White                                2016            NaN\n",
       "..              ...                                 ...            ...\n",
       "65        Tom Hanks                                2016            NaN\n",
       "66     Tony Bennett                                2016            NaN\n",
       "67     Wayne Newton                                2016            NaN\n",
       "68       Will Smith                                2016            NaN\n",
       "69    Willie Nelson                                2016            NaN\n",
       "\n",
       "[70 rows x 3 columns]"
      ]
     },
     "execution_count": 5,
     "metadata": {},
     "output_type": "execute_result"
    }
   ],
   "source": [
    "df1=pd.read_csv('Entertainer - Basic Info.csv')\n",
    "df2=pd.read_csv('Entertainer - Breakthrough Info.csv')\n",
    "df3=pd.read_csv('Entertainer - Last work Info.csv')\n",
    "df1\n",
    "df2\n",
    "df3"
   ]
  },
  {
   "cell_type": "code",
   "execution_count": 6,
   "id": "cc00d223-5df8-4a56-9a42-f81305bd9ec7",
   "metadata": {},
   "outputs": [
    {
     "data": {
      "text/plain": [
       "Entertainer                            0\n",
       "Year of Last Major Work (arguable)     0\n",
       "Year of Death                         40\n",
       "dtype: int64"
      ]
     },
     "execution_count": 6,
     "metadata": {},
     "output_type": "execute_result"
    }
   ],
   "source": [
    "df1.isnull().sum()\n",
    "df2.isnull().sum()\n",
    "df3.isnull().sum()"
   ]
  },
  {
   "cell_type": "markdown",
   "id": "85e8637d-c8c3-4032-91b0-e6553afe5adc",
   "metadata": {},
   "source": []
  },
  {
   "cell_type": "code",
   "execution_count": 7,
   "id": "d2a5b26e-126c-41eb-8d8c-3f0734692af8",
   "metadata": {},
   "outputs": [
    {
     "data": {
      "text/html": [
       "<div>\n",
       "<style scoped>\n",
       "    .dataframe tbody tr th:only-of-type {\n",
       "        vertical-align: middle;\n",
       "    }\n",
       "\n",
       "    .dataframe tbody tr th {\n",
       "        vertical-align: top;\n",
       "    }\n",
       "\n",
       "    .dataframe thead th {\n",
       "        text-align: right;\n",
       "    }\n",
       "</style>\n",
       "<table border=\"1\" class=\"dataframe\">\n",
       "  <thead>\n",
       "    <tr style=\"text-align: right;\">\n",
       "      <th></th>\n",
       "      <th>Entertainer</th>\n",
       "      <th>Year of Last Major Work (arguable)</th>\n",
       "      <th>Year of Death</th>\n",
       "    </tr>\n",
       "  </thead>\n",
       "  <tbody>\n",
       "    <tr>\n",
       "      <th>0</th>\n",
       "      <td>Adele</td>\n",
       "      <td>2016</td>\n",
       "      <td>NOt Application</td>\n",
       "    </tr>\n",
       "    <tr>\n",
       "      <th>1</th>\n",
       "      <td>Angelina Jolie</td>\n",
       "      <td>2016</td>\n",
       "      <td>NOt Application</td>\n",
       "    </tr>\n",
       "    <tr>\n",
       "      <th>2</th>\n",
       "      <td>Aretha Franklin</td>\n",
       "      <td>2014</td>\n",
       "      <td>NOt Application</td>\n",
       "    </tr>\n",
       "    <tr>\n",
       "      <th>3</th>\n",
       "      <td>Bette Davis</td>\n",
       "      <td>1989</td>\n",
       "      <td>1989.0</td>\n",
       "    </tr>\n",
       "    <tr>\n",
       "      <th>4</th>\n",
       "      <td>Betty White</td>\n",
       "      <td>2016</td>\n",
       "      <td>NOt Application</td>\n",
       "    </tr>\n",
       "    <tr>\n",
       "      <th>...</th>\n",
       "      <td>...</td>\n",
       "      <td>...</td>\n",
       "      <td>...</td>\n",
       "    </tr>\n",
       "    <tr>\n",
       "      <th>65</th>\n",
       "      <td>Tom Hanks</td>\n",
       "      <td>2016</td>\n",
       "      <td>NOt Application</td>\n",
       "    </tr>\n",
       "    <tr>\n",
       "      <th>66</th>\n",
       "      <td>Tony Bennett</td>\n",
       "      <td>2016</td>\n",
       "      <td>NOt Application</td>\n",
       "    </tr>\n",
       "    <tr>\n",
       "      <th>67</th>\n",
       "      <td>Wayne Newton</td>\n",
       "      <td>2016</td>\n",
       "      <td>NOt Application</td>\n",
       "    </tr>\n",
       "    <tr>\n",
       "      <th>68</th>\n",
       "      <td>Will Smith</td>\n",
       "      <td>2016</td>\n",
       "      <td>NOt Application</td>\n",
       "    </tr>\n",
       "    <tr>\n",
       "      <th>69</th>\n",
       "      <td>Willie Nelson</td>\n",
       "      <td>2016</td>\n",
       "      <td>NOt Application</td>\n",
       "    </tr>\n",
       "  </tbody>\n",
       "</table>\n",
       "<p>70 rows × 3 columns</p>\n",
       "</div>"
      ],
      "text/plain": [
       "        Entertainer  Year of Last Major Work (arguable)    Year of Death\n",
       "0             Adele                                2016  NOt Application\n",
       "1    Angelina Jolie                                2016  NOt Application\n",
       "2   Aretha Franklin                                2014  NOt Application\n",
       "3       Bette Davis                                1989           1989.0\n",
       "4       Betty White                                2016  NOt Application\n",
       "..              ...                                 ...              ...\n",
       "65        Tom Hanks                                2016  NOt Application\n",
       "66     Tony Bennett                                2016  NOt Application\n",
       "67     Wayne Newton                                2016  NOt Application\n",
       "68       Will Smith                                2016  NOt Application\n",
       "69    Willie Nelson                                2016  NOt Application\n",
       "\n",
       "[70 rows x 3 columns]"
      ]
     },
     "execution_count": 7,
     "metadata": {},
     "output_type": "execute_result"
    }
   ],
   "source": [
    "#df3.dropna(inplace=True)\n",
    "df3['Year of Death']=df3['Year of Death'].astype(object)\n",
    "df3['Year of Death']=df3['Year of Death'].fillna(value='NOt Application')\n",
    "df3"
   ]
  },
  {
   "cell_type": "code",
   "execution_count": 8,
   "id": "02fc85ea-6dac-4466-8d8e-2e8f05849c27",
   "metadata": {},
   "outputs": [
    {
     "data": {
      "text/html": [
       "<div>\n",
       "<style scoped>\n",
       "    .dataframe tbody tr th:only-of-type {\n",
       "        vertical-align: middle;\n",
       "    }\n",
       "\n",
       "    .dataframe tbody tr th {\n",
       "        vertical-align: top;\n",
       "    }\n",
       "\n",
       "    .dataframe thead th {\n",
       "        text-align: right;\n",
       "    }\n",
       "</style>\n",
       "<table border=\"1\" class=\"dataframe\">\n",
       "  <thead>\n",
       "    <tr style=\"text-align: right;\">\n",
       "      <th></th>\n",
       "      <th>Year of Last Major Work (arguable)</th>\n",
       "    </tr>\n",
       "  </thead>\n",
       "  <tbody>\n",
       "    <tr>\n",
       "      <th>count</th>\n",
       "      <td>70.000000</td>\n",
       "    </tr>\n",
       "    <tr>\n",
       "      <th>mean</th>\n",
       "      <td>1998.971429</td>\n",
       "    </tr>\n",
       "    <tr>\n",
       "      <th>std</th>\n",
       "      <td>22.874561</td>\n",
       "    </tr>\n",
       "    <tr>\n",
       "      <th>min</th>\n",
       "      <td>1933.000000</td>\n",
       "    </tr>\n",
       "    <tr>\n",
       "      <th>25%</th>\n",
       "      <td>1980.000000</td>\n",
       "    </tr>\n",
       "    <tr>\n",
       "      <th>50%</th>\n",
       "      <td>2014.000000</td>\n",
       "    </tr>\n",
       "    <tr>\n",
       "      <th>75%</th>\n",
       "      <td>2016.000000</td>\n",
       "    </tr>\n",
       "    <tr>\n",
       "      <th>max</th>\n",
       "      <td>2016.000000</td>\n",
       "    </tr>\n",
       "  </tbody>\n",
       "</table>\n",
       "</div>"
      ],
      "text/plain": [
       "       Year of Last Major Work (arguable)\n",
       "count                           70.000000\n",
       "mean                          1998.971429\n",
       "std                             22.874561\n",
       "min                           1933.000000\n",
       "25%                           1980.000000\n",
       "50%                           2014.000000\n",
       "75%                           2016.000000\n",
       "max                           2016.000000"
      ]
     },
     "execution_count": 8,
     "metadata": {},
     "output_type": "execute_result"
    }
   ],
   "source": [
    "df1.describe()\n",
    "df2.describe()\n",
    "df3.describe()"
   ]
  },
  {
   "cell_type": "code",
   "execution_count": 9,
   "id": "8a0e5235-00ec-450d-9df5-bf23cd20c479",
   "metadata": {},
   "outputs": [
    {
     "data": {
      "text/plain": [
       "Entertainer                           object\n",
       "Year of Last Major Work (arguable)     int64\n",
       "Year of Death                         object\n",
       "dtype: object"
      ]
     },
     "execution_count": 9,
     "metadata": {},
     "output_type": "execute_result"
    }
   ],
   "source": [
    "df1.dtypes\n",
    "df2.dtypes\n",
    "df3.dtypes"
   ]
  },
  {
   "cell_type": "code",
   "execution_count": 10,
   "id": "d09fa413-228d-4fb7-a518-d1fa46bdb359",
   "metadata": {},
   "outputs": [
    {
     "data": {
      "text/html": [
       "<div>\n",
       "<style scoped>\n",
       "    .dataframe tbody tr th:only-of-type {\n",
       "        vertical-align: middle;\n",
       "    }\n",
       "\n",
       "    .dataframe tbody tr th {\n",
       "        vertical-align: top;\n",
       "    }\n",
       "\n",
       "    .dataframe thead th {\n",
       "        text-align: right;\n",
       "    }\n",
       "</style>\n",
       "<table border=\"1\" class=\"dataframe\">\n",
       "  <thead>\n",
       "    <tr style=\"text-align: right;\">\n",
       "      <th></th>\n",
       "      <th>Entertainer</th>\n",
       "      <th>Gender (traditional)</th>\n",
       "      <th>Birth Year</th>\n",
       "      <th>Year of Breakthrough/#1 Hit/Award Nomination</th>\n",
       "      <th>Breakthrough Name</th>\n",
       "      <th>Year of First Oscar/Grammy/Emmy</th>\n",
       "      <th>Year of Last Major Work (arguable)</th>\n",
       "      <th>Year of Death</th>\n",
       "    </tr>\n",
       "  </thead>\n",
       "  <tbody>\n",
       "    <tr>\n",
       "      <th>0</th>\n",
       "      <td>Adele</td>\n",
       "      <td>F</td>\n",
       "      <td>1988</td>\n",
       "      <td>2008</td>\n",
       "      <td>19</td>\n",
       "      <td>2009.0</td>\n",
       "      <td>2016</td>\n",
       "      <td>NOt Application</td>\n",
       "    </tr>\n",
       "    <tr>\n",
       "      <th>1</th>\n",
       "      <td>Angelina Jolie</td>\n",
       "      <td>F</td>\n",
       "      <td>1975</td>\n",
       "      <td>1999</td>\n",
       "      <td>Girl, Interrupted</td>\n",
       "      <td>1999.0</td>\n",
       "      <td>2016</td>\n",
       "      <td>NOt Application</td>\n",
       "    </tr>\n",
       "    <tr>\n",
       "      <th>2</th>\n",
       "      <td>Aretha Franklin</td>\n",
       "      <td>F</td>\n",
       "      <td>1942</td>\n",
       "      <td>1967</td>\n",
       "      <td>I Never Loved a Man (The Way I Love You)</td>\n",
       "      <td>1968.0</td>\n",
       "      <td>2014</td>\n",
       "      <td>NOt Application</td>\n",
       "    </tr>\n",
       "    <tr>\n",
       "      <th>3</th>\n",
       "      <td>Bette Davis</td>\n",
       "      <td>F</td>\n",
       "      <td>1908</td>\n",
       "      <td>1934</td>\n",
       "      <td>Of Human Bondage</td>\n",
       "      <td>1935.0</td>\n",
       "      <td>1989</td>\n",
       "      <td>1989.0</td>\n",
       "    </tr>\n",
       "    <tr>\n",
       "      <th>4</th>\n",
       "      <td>Betty White</td>\n",
       "      <td>F</td>\n",
       "      <td>1922</td>\n",
       "      <td>1952</td>\n",
       "      <td>Life with Elilzabeth</td>\n",
       "      <td>1976.0</td>\n",
       "      <td>2016</td>\n",
       "      <td>NOt Application</td>\n",
       "    </tr>\n",
       "    <tr>\n",
       "      <th>...</th>\n",
       "      <td>...</td>\n",
       "      <td>...</td>\n",
       "      <td>...</td>\n",
       "      <td>...</td>\n",
       "      <td>...</td>\n",
       "      <td>...</td>\n",
       "      <td>...</td>\n",
       "      <td>...</td>\n",
       "    </tr>\n",
       "    <tr>\n",
       "      <th>65</th>\n",
       "      <td>Tom Hanks</td>\n",
       "      <td>M</td>\n",
       "      <td>1956</td>\n",
       "      <td>1984</td>\n",
       "      <td>Splash</td>\n",
       "      <td>1993.0</td>\n",
       "      <td>2016</td>\n",
       "      <td>NOt Application</td>\n",
       "    </tr>\n",
       "    <tr>\n",
       "      <th>66</th>\n",
       "      <td>Tony Bennett</td>\n",
       "      <td>M</td>\n",
       "      <td>1926</td>\n",
       "      <td>1951</td>\n",
       "      <td>Because of You</td>\n",
       "      <td>1963.0</td>\n",
       "      <td>2016</td>\n",
       "      <td>NOt Application</td>\n",
       "    </tr>\n",
       "    <tr>\n",
       "      <th>67</th>\n",
       "      <td>Wayne Newton</td>\n",
       "      <td>M</td>\n",
       "      <td>1942</td>\n",
       "      <td>1972</td>\n",
       "      <td>Daddy, Don't You Walk So Fast</td>\n",
       "      <td>NaN</td>\n",
       "      <td>2016</td>\n",
       "      <td>NOt Application</td>\n",
       "    </tr>\n",
       "    <tr>\n",
       "      <th>68</th>\n",
       "      <td>Will Smith</td>\n",
       "      <td>M</td>\n",
       "      <td>1968</td>\n",
       "      <td>1990</td>\n",
       "      <td>The Fresh Prince of Bel-Air</td>\n",
       "      <td>1988.0</td>\n",
       "      <td>2016</td>\n",
       "      <td>NOt Application</td>\n",
       "    </tr>\n",
       "    <tr>\n",
       "      <th>69</th>\n",
       "      <td>Willie Nelson</td>\n",
       "      <td>M</td>\n",
       "      <td>1933</td>\n",
       "      <td>1975</td>\n",
       "      <td>Red Headed Stranger</td>\n",
       "      <td>1976.0</td>\n",
       "      <td>2016</td>\n",
       "      <td>NOt Application</td>\n",
       "    </tr>\n",
       "  </tbody>\n",
       "</table>\n",
       "<p>70 rows × 8 columns</p>\n",
       "</div>"
      ],
      "text/plain": [
       "        Entertainer Gender (traditional)  Birth Year  \\\n",
       "0             Adele                    F        1988   \n",
       "1    Angelina Jolie                    F        1975   \n",
       "2   Aretha Franklin                    F        1942   \n",
       "3       Bette Davis                    F        1908   \n",
       "4       Betty White                    F        1922   \n",
       "..              ...                  ...         ...   \n",
       "65        Tom Hanks                    M        1956   \n",
       "66     Tony Bennett                    M        1926   \n",
       "67     Wayne Newton                    M        1942   \n",
       "68       Will Smith                    M        1968   \n",
       "69    Willie Nelson                    M        1933   \n",
       "\n",
       "    Year of Breakthrough/#1 Hit/Award Nomination  \\\n",
       "0                                           2008   \n",
       "1                                           1999   \n",
       "2                                           1967   \n",
       "3                                           1934   \n",
       "4                                           1952   \n",
       "..                                           ...   \n",
       "65                                          1984   \n",
       "66                                          1951   \n",
       "67                                          1972   \n",
       "68                                          1990   \n",
       "69                                          1975   \n",
       "\n",
       "                           Breakthrough Name  Year of First Oscar/Grammy/Emmy  \\\n",
       "0                                         19                           2009.0   \n",
       "1                          Girl, Interrupted                           1999.0   \n",
       "2   I Never Loved a Man (The Way I Love You)                           1968.0   \n",
       "3                           Of Human Bondage                           1935.0   \n",
       "4                       Life with Elilzabeth                           1976.0   \n",
       "..                                       ...                              ...   \n",
       "65                                    Splash                           1993.0   \n",
       "66                            Because of You                           1963.0   \n",
       "67             Daddy, Don't You Walk So Fast                              NaN   \n",
       "68               The Fresh Prince of Bel-Air                           1988.0   \n",
       "69                       Red Headed Stranger                           1976.0   \n",
       "\n",
       "    Year of Last Major Work (arguable)    Year of Death  \n",
       "0                                 2016  NOt Application  \n",
       "1                                 2016  NOt Application  \n",
       "2                                 2014  NOt Application  \n",
       "3                                 1989           1989.0  \n",
       "4                                 2016  NOt Application  \n",
       "..                                 ...              ...  \n",
       "65                                2016  NOt Application  \n",
       "66                                2016  NOt Application  \n",
       "67                                2016  NOt Application  \n",
       "68                                2016  NOt Application  \n",
       "69                                2016  NOt Application  \n",
       "\n",
       "[70 rows x 8 columns]"
      ]
     },
     "execution_count": 10,
     "metadata": {},
     "output_type": "execute_result"
    }
   ],
   "source": [
    "#Merge on common key\n",
    "df=pd.merge(df1,df2,on='Entertainer')\n",
    "df=pd.merge(df,df3,on='Entertainer')\n",
    "df"
   ]
  },
  {
   "cell_type": "code",
   "execution_count": 24,
   "id": "bbaa0f0b-458b-46f0-8a7b-7686ff4fdfc4",
   "metadata": {},
   "outputs": [
    {
     "data": {
      "text/plain": [
       "Index(['Entertainer', 'Gender (traditional)', 'Birth Year',\n",
       "       'Year of Breakthrough/#1 Hit/Award Nomination', 'Breakthrough Name',\n",
       "       'Year of First Oscar/Grammy/Emmy', 'Year of Last Major Work (arguable)',\n",
       "       'Year of Death', 'age_of_breakthrough', 'age_at_first_award',\n",
       "       'age_at_last_work', 'age_at_death'],\n",
       "      dtype='object')"
      ]
     },
     "execution_count": 24,
     "metadata": {},
     "output_type": "execute_result"
    }
   ],
   "source": [
    "df.columns"
   ]
  },
  {
   "cell_type": "code",
   "execution_count": null,
   "id": "5c0f5bb6-3213-4405-bc1e-e7eb00e8feb8",
   "metadata": {},
   "outputs": [],
   "source": [
    "#Distribution of year of Breakthrough\n",
    "sns.histplot(df['Year of Breakthrough/#1 Hit/Award Nomination'],bins=20)\n",
    "plt.title('Distribution of year of breakthrough')\n",
    "plt.show()"
   ]
  },
  {
   "cell_type": "code",
   "execution_count": null,
   "id": "4d32786f-9498-4937-841a-5548a2e8a90e",
   "metadata": {},
   "outputs": [],
   "source": [
    "#Calculation of th gap betweeen Breakthrough and first award\n",
    "df['time_to_award']=df['Year of First Oscar/Grammy/Emmy']-df['Year of Breakthrough/#1 Hit/Award Nomination']"
   ]
  },
  {
   "cell_type": "code",
   "execution_count": null,
   "id": "2f6e615f-df17-421c-83e0-69e00106b203",
   "metadata": {},
   "outputs": [],
   "source": [
    "sns.histplot(df['time_to_award'],bins=20)\n",
    "plt.title('Distribution of the time to first Major award')\n",
    "plt.show()"
   ]
  },
  {
   "cell_type": "code",
   "execution_count": 12,
   "id": "77d95fb6-5183-44c3-8a76-1b88f4cd2d11",
   "metadata": {},
   "outputs": [
    {
     "data": {
      "image/png": "[encoded data removed]",
      "text/plain": [
       "<Figure size 640x480 with 1 Axes>"
      ]
     },
     "metadata": {},
     "output_type": "display_data"
    }
   ],
   "source": [
    "#Gender wise count of entertainers\n",
    "sns.countplot(x='Gender (traditional)',data=df)\n",
    "plt.title('Count of Male vs Female Entertainers')\n",
    "plt.show()"
   ]
  },
  {
   "cell_type": "code",
   "execution_count": 13,
   "id": "6a6c215e-9dd6-4148-895b-be6e3c213964",
   "metadata": {},
   "outputs": [
    {
     "data": {
      "image/png": "[encoded data removed]",
      "text/plain": [
       "<Figure size 640x480 with 1 Axes>"
      ]
     },
     "metadata": {},
     "output_type": "display_data"
    }
   ],
   "source": [
    "#Distribution of breakthrough year by gender\n",
    "sns.boxplot(x='Gender (traditional)',y='Year of Breakthrough/#1 Hit/Award Nomination',data=df)\n",
    "plt.title('Year of breakthrough by gender')\n",
    "plt.show()"
   ]
  },
  {
   "cell_type": "code",
   "execution_count": null,
   "id": "3df99ad5-e17b-471b-8474-5de97a22f61e",
   "metadata": {},
   "outputs": [],
   "source": [
    "##AGE ANALYSIS##"
   ]
  },
  {
   "cell_type": "code",
   "execution_count": 15,
   "id": "f983bea7-d6ff-417d-b048-9baf63141c20",
   "metadata": {},
   "outputs": [],
   "source": [
    "df['age_of_breakthrough']=df['Year of Breakthrough/#1 Hit/Award Nomination']-df['Birth Year']\n",
    "df['age_at_first_award']=df[ 'Year of First Oscar/Grammy/Emmy']-df['Birth Year']\n",
    "df['age_at_last_work']=df['Year of Last Major Work (arguable)']-df['Birth Year']"
   ]
  },
  {
   "cell_type": "code",
   "execution_count": 16,
   "id": "174835de-4041-456c-8946-353760c21c04",
   "metadata": {},
   "outputs": [
    {
     "data": {
      "image/png": "[encoded data removed]",
      "text/plain": [
       "<Figure size 640x480 with 1 Axes>"
      ]
     },
     "metadata": {},
     "output_type": "display_data"
    },
    {
     "data": {
      "image/png": "[encoded data removed]",
      "text/plain": [
       "<Figure size 640x480 with 1 Axes>"
      ]
     },
     "metadata": {},
     "output_type": "display_data"
    },
    {
     "data": {
      "image/png": "[encoded data removed]",
      "text/plain": [
       "<Figure size 640x480 with 1 Axes>"
      ]
     },
     "metadata": {},
     "output_type": "display_data"
    }
   ],
   "source": [
    "sns.histplot(df['age_of_breakthrough'],bins=20)\n",
    "plt.title('Distribution of Age at Breakthrough')\n",
    "plt.show()\n",
    "\n",
    "sns.histplot(df['age_at_first_award'],bins=20)\n",
    "plt.title('Distribution of Age at first award')\n",
    "plt.show()\n",
    "\n",
    "sns.histplot(df['age_at_last_work'],bins=20)\n",
    "plt.title('Distribution of Age at last work')\n",
    "plt.show()"
   ]
  },
  {
   "cell_type": "code",
   "execution_count": 22,
   "id": "aa6618f4-01bf-4e56-903f-362abd7789bc",
   "metadata": {},
   "outputs": [
    {
     "data": {
      "image/png": "[encoded data removed]",
      "text/plain": [
       "<Figure size 640x480 with 1 Axes>"
      ]
     },
     "metadata": {},
     "output_type": "display_data"
    }
   ],
   "source": [
    "df=df[pd.to_numeric(df['Year of Death'],errors='coerce').notna()]\n",
    "df.loc[:,'age_at_death']=df['Year of Death']-df['Birth Year']\n",
    "sns.histplot(df['age_at_death'],bins=20)\n",
    "plt.title('Age At Death')\n",
    "plt.show()"
   ]
  },
  {
   "cell_type": "code",
   "execution_count": 21,
   "id": "7c9d4bb4-01d2-451f-81ae-eb6c6ec57283",
   "metadata": {},
   "outputs": [],
   "source": [
    "df.to_excel('entertainment.xlsx')"
   ]
  },
  {
   "cell_type": "code",
   "execution_count": null,
   "id": "d37ce9e6-19c8-4c08-a082-d6f8697f39f9",
   "metadata": {},
   "outputs": [],
   "source": []
  }
 ],
 "metadata": {
  "kernelspec": {
   "display_name": "Python 3 (ipykernel)",
   "language": "python",
   "name": "python3"
  },
  "language_info": {
   "codemirror_mode": {
    "name": "ipython",
    "version": 3
   },
   "file_extension": ".py",
   "mimetype": "text/x-python",
   "name": "python",
   "nbconvert_exporter": "python",
   "pygments_lexer": "ipython3",
   "version": "3.10.10"
  }
 },
 "nbformat": 4,
 "nbformat_minor": 5
}
